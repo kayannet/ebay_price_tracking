{
 "cells": [
  {
   "cell_type": "code",
   "execution_count": 6,
   "id": "ed1583e8",
   "metadata": {},
   "outputs": [],
   "source": [
    "import pandas as pd\n",
    "import numpy as np\n",
    "import matplotlib as plt\n",
    "import seaborn as sns"
   ]
  },
  {
   "cell_type": "code",
   "execution_count": 8,
   "id": "ef05bd5c",
   "metadata": {},
   "outputs": [],
   "source": [
    "from dateutil.parser import parse"
   ]
  },
  {
   "cell_type": "code",
   "execution_count": 52,
   "id": "486527de",
   "metadata": {},
   "outputs": [
    {
     "data": {
      "text/html": [
       "<div>\n",
       "<style scoped>\n",
       "    .dataframe tbody tr th:only-of-type {\n",
       "        vertical-align: middle;\n",
       "    }\n",
       "\n",
       "    .dataframe tbody tr th {\n",
       "        vertical-align: top;\n",
       "    }\n",
       "\n",
       "    .dataframe thead th {\n",
       "        text-align: right;\n",
       "    }\n",
       "</style>\n",
       "<table border=\"1\" class=\"dataframe\">\n",
       "  <thead>\n",
       "    <tr style=\"text-align: right;\">\n",
       "      <th></th>\n",
       "      <th>title</th>\n",
       "      <th>soldprice</th>\n",
       "      <th>link</th>\n",
       "      <th>solddate</th>\n",
       "      <th>bids</th>\n",
       "    </tr>\n",
       "  </thead>\n",
       "  <tbody>\n",
       "    <tr>\n",
       "      <th>0</th>\n",
       "      <td>Shop on eBay</td>\n",
       "      <td>20.00</td>\n",
       "      <td>https://ebay.com/itm/123456?hash=item28caef0a3...</td>\n",
       "      <td>NaN</td>\n",
       "      <td>NaN</td>\n",
       "    </tr>\n",
       "    <tr>\n",
       "      <th>1</th>\n",
       "      <td>Shohei Ohtani 2023 Bowman Chrome Mojo Refracto...</td>\n",
       "      <td>5.00</td>\n",
       "      <td>https://www.ebay.com/itm/305113977419?hash=ite...</td>\n",
       "      <td>Sold  Sep 8, 2023</td>\n",
       "      <td>NaN</td>\n",
       "    </tr>\n",
       "    <tr>\n",
       "      <th>2</th>\n",
       "      <td>2018  Topps Update “Japans Finest” Shohei Ohta...</td>\n",
       "      <td>6.99</td>\n",
       "      <td>https://www.ebay.com/itm/314817529687?hash=ite...</td>\n",
       "      <td>Sold  Sep 8, 2023</td>\n",
       "      <td>NaN</td>\n",
       "    </tr>\n",
       "    <tr>\n",
       "      <th>3</th>\n",
       "      <td>New Listing2023 Topps Chrome Baseball Shohei O...</td>\n",
       "      <td>11.99</td>\n",
       "      <td>https://www.ebay.com/itm/314820875253?hash=ite...</td>\n",
       "      <td>Sold  Sep 8, 2023</td>\n",
       "      <td>NaN</td>\n",
       "    </tr>\n",
       "    <tr>\n",
       "      <th>4</th>\n",
       "      <td>SHOHEI OHTANI 15 CARD LOT - 2022, 23 TOPPS/BOW...</td>\n",
       "      <td>4.51</td>\n",
       "      <td>https://www.ebay.com/itm/305112331411?hash=ite...</td>\n",
       "      <td>Sold  Sep 8, 2023</td>\n",
       "      <td>6 bids</td>\n",
       "    </tr>\n",
       "    <tr>\n",
       "      <th>...</th>\n",
       "      <td>...</td>\n",
       "      <td>...</td>\n",
       "      <td>...</td>\n",
       "      <td>...</td>\n",
       "      <td>...</td>\n",
       "    </tr>\n",
       "    <tr>\n",
       "      <th>300</th>\n",
       "      <td>2022 MLB Topps Now Card SHOHEI OHTANI #OS-18 A...</td>\n",
       "      <td>2.89</td>\n",
       "      <td>https://www.ebay.com/itm/355010778646?epid=260...</td>\n",
       "      <td>Sold  Sep 7, 2023</td>\n",
       "      <td>1 bid</td>\n",
       "    </tr>\n",
       "    <tr>\n",
       "      <th>301</th>\n",
       "      <td>2021 Panini Chronicles Shohei Ohtani Phoenix c...</td>\n",
       "      <td>1.99</td>\n",
       "      <td>https://www.ebay.com/itm/285091687604?hash=ite...</td>\n",
       "      <td>Sold  Sep 7, 2023</td>\n",
       "      <td>NaN</td>\n",
       "    </tr>\n",
       "    <tr>\n",
       "      <th>302</th>\n",
       "      <td>2021 Donruss #199 Shohei Ohtani base card Angels</td>\n",
       "      <td>1.49</td>\n",
       "      <td>https://www.ebay.com/itm/284950780071?hash=ite...</td>\n",
       "      <td>Sold  Sep 7, 2023</td>\n",
       "      <td>NaN</td>\n",
       "    </tr>\n",
       "    <tr>\n",
       "      <th>303</th>\n",
       "      <td>2022 Bowman Chrome #71 Shohei Ohtani card Angels</td>\n",
       "      <td>3.99</td>\n",
       "      <td>https://www.ebay.com/itm/285053569728?hash=ite...</td>\n",
       "      <td>Sold  Sep 7, 2023</td>\n",
       "      <td>NaN</td>\n",
       "    </tr>\n",
       "    <tr>\n",
       "      <th>304</th>\n",
       "      <td>2021 Panini Absolute #25 Shohei Ohtani GREEN p...</td>\n",
       "      <td>1.99</td>\n",
       "      <td>https://www.ebay.com/itm/285099920417?epid=805...</td>\n",
       "      <td>Sold  Sep 7, 2023</td>\n",
       "      <td>NaN</td>\n",
       "    </tr>\n",
       "  </tbody>\n",
       "</table>\n",
       "<p>305 rows × 5 columns</p>\n",
       "</div>"
      ],
      "text/plain": [
       "                                                 title soldprice  \\\n",
       "0                                         Shop on eBay     20.00   \n",
       "1    Shohei Ohtani 2023 Bowman Chrome Mojo Refracto...      5.00   \n",
       "2    2018  Topps Update “Japans Finest” Shohei Ohta...      6.99   \n",
       "3    New Listing2023 Topps Chrome Baseball Shohei O...     11.99   \n",
       "4    SHOHEI OHTANI 15 CARD LOT - 2022, 23 TOPPS/BOW...      4.51   \n",
       "..                                                 ...       ...   \n",
       "300  2022 MLB Topps Now Card SHOHEI OHTANI #OS-18 A...      2.89   \n",
       "301  2021 Panini Chronicles Shohei Ohtani Phoenix c...      1.99   \n",
       "302   2021 Donruss #199 Shohei Ohtani base card Angels      1.49   \n",
       "303   2022 Bowman Chrome #71 Shohei Ohtani card Angels      3.99   \n",
       "304  2021 Panini Absolute #25 Shohei Ohtani GREEN p...      1.99   \n",
       "\n",
       "                                                  link           solddate  \\\n",
       "0    https://ebay.com/itm/123456?hash=item28caef0a3...                NaN   \n",
       "1    https://www.ebay.com/itm/305113977419?hash=ite...  Sold  Sep 8, 2023   \n",
       "2    https://www.ebay.com/itm/314817529687?hash=ite...  Sold  Sep 8, 2023   \n",
       "3    https://www.ebay.com/itm/314820875253?hash=ite...  Sold  Sep 8, 2023   \n",
       "4    https://www.ebay.com/itm/305112331411?hash=ite...  Sold  Sep 8, 2023   \n",
       "..                                                 ...                ...   \n",
       "300  https://www.ebay.com/itm/355010778646?epid=260...  Sold  Sep 7, 2023   \n",
       "301  https://www.ebay.com/itm/285091687604?hash=ite...  Sold  Sep 7, 2023   \n",
       "302  https://www.ebay.com/itm/284950780071?hash=ite...  Sold  Sep 7, 2023   \n",
       "303  https://www.ebay.com/itm/285053569728?hash=ite...  Sold  Sep 7, 2023   \n",
       "304  https://www.ebay.com/itm/285099920417?epid=805...  Sold  Sep 7, 2023   \n",
       "\n",
       "       bids  \n",
       "0       NaN  \n",
       "1       NaN  \n",
       "2       NaN  \n",
       "3       NaN  \n",
       "4    6 bids  \n",
       "..      ...  \n",
       "300   1 bid  \n",
       "301     NaN  \n",
       "302     NaN  \n",
       "303     NaN  \n",
       "304     NaN  \n",
       "\n",
       "[305 rows x 5 columns]"
      ]
     },
     "execution_count": 52,
     "metadata": {},
     "output_type": "execute_result"
    }
   ],
   "source": [
    "df = pd.read_csv('ohtani+baseball+cards_output.csv')\n",
    "df"
   ]
  },
  {
   "cell_type": "markdown",
   "id": "59484564",
   "metadata": {},
   "source": [
    "# Clean the Data"
   ]
  },
  {
   "cell_type": "code",
   "execution_count": 53,
   "id": "3e0c5e8e",
   "metadata": {},
   "outputs": [],
   "source": [
    "df = df[df.get('title')!='Shop on eBay'].reset_index(drop = True)"
   ]
  },
  {
   "cell_type": "code",
   "execution_count": 54,
   "id": "8ff55213",
   "metadata": {},
   "outputs": [
    {
     "data": {
      "text/html": [
       "<div>\n",
       "<style scoped>\n",
       "    .dataframe tbody tr th:only-of-type {\n",
       "        vertical-align: middle;\n",
       "    }\n",
       "\n",
       "    .dataframe tbody tr th {\n",
       "        vertical-align: top;\n",
       "    }\n",
       "\n",
       "    .dataframe thead th {\n",
       "        text-align: right;\n",
       "    }\n",
       "</style>\n",
       "<table border=\"1\" class=\"dataframe\">\n",
       "  <thead>\n",
       "    <tr style=\"text-align: right;\">\n",
       "      <th></th>\n",
       "      <th>title</th>\n",
       "      <th>soldprice</th>\n",
       "      <th>link</th>\n",
       "      <th>solddate</th>\n",
       "      <th>bids</th>\n",
       "    </tr>\n",
       "  </thead>\n",
       "  <tbody>\n",
       "    <tr>\n",
       "      <th>0</th>\n",
       "      <td>Shohei Ohtani 2023 Bowman Chrome Mojo Refracto...</td>\n",
       "      <td>5.00</td>\n",
       "      <td>https://www.ebay.com/itm/305113977419?hash=ite...</td>\n",
       "      <td>Sold  Sep 8, 2023</td>\n",
       "      <td>NaN</td>\n",
       "    </tr>\n",
       "    <tr>\n",
       "      <th>1</th>\n",
       "      <td>2018  Topps Update “Japans Finest” Shohei Ohta...</td>\n",
       "      <td>6.99</td>\n",
       "      <td>https://www.ebay.com/itm/314817529687?hash=ite...</td>\n",
       "      <td>Sold  Sep 8, 2023</td>\n",
       "      <td>NaN</td>\n",
       "    </tr>\n",
       "    <tr>\n",
       "      <th>2</th>\n",
       "      <td>New Listing2023 Topps Chrome Baseball Shohei O...</td>\n",
       "      <td>11.99</td>\n",
       "      <td>https://www.ebay.com/itm/314820875253?hash=ite...</td>\n",
       "      <td>Sold  Sep 8, 2023</td>\n",
       "      <td>NaN</td>\n",
       "    </tr>\n",
       "    <tr>\n",
       "      <th>3</th>\n",
       "      <td>SHOHEI OHTANI 15 CARD LOT - 2022, 23 TOPPS/BOW...</td>\n",
       "      <td>4.51</td>\n",
       "      <td>https://www.ebay.com/itm/305112331411?hash=ite...</td>\n",
       "      <td>Sold  Sep 8, 2023</td>\n",
       "      <td>6 bids</td>\n",
       "    </tr>\n",
       "    <tr>\n",
       "      <th>4</th>\n",
       "      <td>2018 Topps Update Shohei Ohtani Next Step, Sta...</td>\n",
       "      <td>89.99</td>\n",
       "      <td>https://www.ebay.com/itm/126072723348?hash=ite...</td>\n",
       "      <td>Sold  Sep 8, 2023</td>\n",
       "      <td>NaN</td>\n",
       "    </tr>\n",
       "  </tbody>\n",
       "</table>\n",
       "</div>"
      ],
      "text/plain": [
       "                                               title soldprice  \\\n",
       "0  Shohei Ohtani 2023 Bowman Chrome Mojo Refracto...      5.00   \n",
       "1  2018  Topps Update “Japans Finest” Shohei Ohta...      6.99   \n",
       "2  New Listing2023 Topps Chrome Baseball Shohei O...     11.99   \n",
       "3  SHOHEI OHTANI 15 CARD LOT - 2022, 23 TOPPS/BOW...      4.51   \n",
       "4  2018 Topps Update Shohei Ohtani Next Step, Sta...     89.99   \n",
       "\n",
       "                                                link           solddate  \\\n",
       "0  https://www.ebay.com/itm/305113977419?hash=ite...  Sold  Sep 8, 2023   \n",
       "1  https://www.ebay.com/itm/314817529687?hash=ite...  Sold  Sep 8, 2023   \n",
       "2  https://www.ebay.com/itm/314820875253?hash=ite...  Sold  Sep 8, 2023   \n",
       "3  https://www.ebay.com/itm/305112331411?hash=ite...  Sold  Sep 8, 2023   \n",
       "4  https://www.ebay.com/itm/126072723348?hash=ite...  Sold  Sep 8, 2023   \n",
       "\n",
       "     bids  \n",
       "0     NaN  \n",
       "1     NaN  \n",
       "2     NaN  \n",
       "3  6 bids  \n",
       "4     NaN  "
      ]
     },
     "execution_count": 54,
     "metadata": {},
     "output_type": "execute_result"
    }
   ],
   "source": [
    "df.head()"
   ]
  },
  {
   "cell_type": "markdown",
   "id": "44d0cc07",
   "metadata": {},
   "source": [
    "## Fixing Dates"
   ]
  },
  {
   "cell_type": "code",
   "execution_count": 55,
   "id": "e24731ef",
   "metadata": {},
   "outputs": [
    {
     "name": "stdout",
     "output_type": "stream",
     "text": [
      "2023-09-08 00:00:00\n"
     ]
    },
    {
     "data": {
      "text/plain": [
       "datetime.datetime"
      ]
     },
     "execution_count": 55,
     "metadata": {},
     "output_type": "execute_result"
    }
   ],
   "source": [
    "# turn str date time to datetime.datetime\n",
    "test_date = df['solddate'].iloc[1].replace('Sold  ', '')\n",
    "print(parse(test_date))\n",
    "type(parse(test_date))"
   ]
  },
  {
   "cell_type": "code",
   "execution_count": 56,
   "id": "552ad7d6",
   "metadata": {},
   "outputs": [],
   "source": [
    "stripped_dates = []\n",
    "for i in df['solddate']:\n",
    "    try:\n",
    "        stripped_dates.append(i.replace('Sold  ', ''))\n",
    "    except:\n",
    "        stripped_dates.append(np.nan)"
   ]
  },
  {
   "cell_type": "code",
   "execution_count": 57,
   "id": "e828b50b",
   "metadata": {},
   "outputs": [],
   "source": [
    "df['solddate'] = [parse(i) for i in stripped_dates]"
   ]
  },
  {
   "cell_type": "markdown",
   "id": "1b6221c2",
   "metadata": {},
   "source": [
    "## Clean Bids Column"
   ]
  },
  {
   "cell_type": "code",
   "execution_count": 77,
   "id": "d8e645d9",
   "metadata": {
    "scrolled": true
   },
   "outputs": [],
   "source": [
    "num_bids = []\n",
    "for i in df['bids']:\n",
    "    try:\n",
    "        np.isnan(i)\n",
    "        num_bids.append(0)\n",
    "    except:\n",
    "        num_bids.append(int(i.split()[0]))\n",
    "        continue"
   ]
  },
  {
   "cell_type": "code",
   "execution_count": 79,
   "id": "21391e93",
   "metadata": {},
   "outputs": [],
   "source": [
    "df['bids'] = num_bids"
   ]
  },
  {
   "cell_type": "code",
   "execution_count": 80,
   "id": "4de93c5f",
   "metadata": {},
   "outputs": [
    {
     "data": {
      "text/html": [
       "<div>\n",
       "<style scoped>\n",
       "    .dataframe tbody tr th:only-of-type {\n",
       "        vertical-align: middle;\n",
       "    }\n",
       "\n",
       "    .dataframe tbody tr th {\n",
       "        vertical-align: top;\n",
       "    }\n",
       "\n",
       "    .dataframe thead th {\n",
       "        text-align: right;\n",
       "    }\n",
       "</style>\n",
       "<table border=\"1\" class=\"dataframe\">\n",
       "  <thead>\n",
       "    <tr style=\"text-align: right;\">\n",
       "      <th></th>\n",
       "      <th>title</th>\n",
       "      <th>soldprice</th>\n",
       "      <th>link</th>\n",
       "      <th>solddate</th>\n",
       "      <th>bids</th>\n",
       "    </tr>\n",
       "  </thead>\n",
       "  <tbody>\n",
       "    <tr>\n",
       "      <th>0</th>\n",
       "      <td>Shohei Ohtani 2023 Bowman Chrome Mojo Refracto...</td>\n",
       "      <td>5.00</td>\n",
       "      <td>https://www.ebay.com/itm/305113977419?hash=ite...</td>\n",
       "      <td>2023-09-08</td>\n",
       "      <td>0</td>\n",
       "    </tr>\n",
       "    <tr>\n",
       "      <th>1</th>\n",
       "      <td>2018  Topps Update “Japans Finest” Shohei Ohta...</td>\n",
       "      <td>6.99</td>\n",
       "      <td>https://www.ebay.com/itm/314817529687?hash=ite...</td>\n",
       "      <td>2023-09-08</td>\n",
       "      <td>0</td>\n",
       "    </tr>\n",
       "    <tr>\n",
       "      <th>2</th>\n",
       "      <td>New Listing2023 Topps Chrome Baseball Shohei O...</td>\n",
       "      <td>11.99</td>\n",
       "      <td>https://www.ebay.com/itm/314820875253?hash=ite...</td>\n",
       "      <td>2023-09-08</td>\n",
       "      <td>0</td>\n",
       "    </tr>\n",
       "    <tr>\n",
       "      <th>3</th>\n",
       "      <td>SHOHEI OHTANI 15 CARD LOT - 2022, 23 TOPPS/BOW...</td>\n",
       "      <td>4.51</td>\n",
       "      <td>https://www.ebay.com/itm/305112331411?hash=ite...</td>\n",
       "      <td>2023-09-08</td>\n",
       "      <td>6</td>\n",
       "    </tr>\n",
       "    <tr>\n",
       "      <th>4</th>\n",
       "      <td>2018 Topps Update Shohei Ohtani Next Step, Sta...</td>\n",
       "      <td>89.99</td>\n",
       "      <td>https://www.ebay.com/itm/126072723348?hash=ite...</td>\n",
       "      <td>2023-09-08</td>\n",
       "      <td>0</td>\n",
       "    </tr>\n",
       "  </tbody>\n",
       "</table>\n",
       "</div>"
      ],
      "text/plain": [
       "                                               title soldprice  \\\n",
       "0  Shohei Ohtani 2023 Bowman Chrome Mojo Refracto...      5.00   \n",
       "1  2018  Topps Update “Japans Finest” Shohei Ohta...      6.99   \n",
       "2  New Listing2023 Topps Chrome Baseball Shohei O...     11.99   \n",
       "3  SHOHEI OHTANI 15 CARD LOT - 2022, 23 TOPPS/BOW...      4.51   \n",
       "4  2018 Topps Update Shohei Ohtani Next Step, Sta...     89.99   \n",
       "\n",
       "                                                link   solddate  bids  \n",
       "0  https://www.ebay.com/itm/305113977419?hash=ite... 2023-09-08     0  \n",
       "1  https://www.ebay.com/itm/314817529687?hash=ite... 2023-09-08     0  \n",
       "2  https://www.ebay.com/itm/314820875253?hash=ite... 2023-09-08     0  \n",
       "3  https://www.ebay.com/itm/305112331411?hash=ite... 2023-09-08     6  \n",
       "4  https://www.ebay.com/itm/126072723348?hash=ite... 2023-09-08     0  "
      ]
     },
     "execution_count": 80,
     "metadata": {},
     "output_type": "execute_result"
    }
   ],
   "source": [
    "df.head()"
   ]
  },
  {
   "cell_type": "markdown",
   "id": "6c746f5a",
   "metadata": {},
   "source": [
    "## Clean Sold Price Columns"
   ]
  },
  {
   "cell_type": "code",
   "execution_count": 95,
   "id": "67034de1",
   "metadata": {},
   "outputs": [
    {
     "data": {
      "text/plain": [
       "5.0"
      ]
     },
     "execution_count": 95,
     "metadata": {},
     "output_type": "execute_result"
    }
   ],
   "source": [
    "float('5.00')"
   ]
  },
  {
   "cell_type": "code",
   "execution_count": 104,
   "id": "89d67c80",
   "metadata": {
    "scrolled": true
   },
   "outputs": [
    {
     "data": {
      "text/plain": [
       "1.67"
      ]
     },
     "execution_count": 104,
     "metadata": {},
     "output_type": "execute_result"
    }
   ],
   "source": [
    "np.average([1.34, 2])"
   ]
  },
  {
   "cell_type": "markdown",
   "id": "d406003b",
   "metadata": {},
   "source": [
    "### For prices that are like '4.99 to 11.99', I appended the average value of the range"
   ]
  },
  {
   "cell_type": "code",
   "execution_count": 108,
   "id": "c156dd5d",
   "metadata": {},
   "outputs": [
    {
     "data": {
      "text/plain": [
       "[5.0,\n",
       " 6.99,\n",
       " 11.99,\n",
       " 4.51,\n",
       " 89.99,\n",
       " 99.99,\n",
       " 32.99,\n",
       " 31.0,\n",
       " 152.5,\n",
       " 16.15,\n",
       " 8.44,\n",
       " 20.0,\n",
       " 3.51,\n",
       " 42.91,\n",
       " 256.0,\n",
       " 4.99,\n",
       " 39.99,\n",
       " 38.0,\n",
       " 1.49,\n",
       " 16.5,\n",
       " 20.5,\n",
       " 14.01,\n",
       " 800.0,\n",
       " 11.5,\n",
       " 51.04,\n",
       " 36.0,\n",
       " 8.35,\n",
       " 1.25,\n",
       " 899.99,\n",
       " 17.99,\n",
       " 45.75,\n",
       " 69.99,\n",
       " 44.0,\n",
       " 10.0,\n",
       " 36.0,\n",
       " 13.4,\n",
       " 81.0,\n",
       " 135.0,\n",
       " 76.55,\n",
       " 30.0,\n",
       " 299.95,\n",
       " 109.99,\n",
       " 34.99,\n",
       " 7.52,\n",
       " 22.5,\n",
       " 11.0,\n",
       " 9.95,\n",
       " 9.95,\n",
       " 9.95,\n",
       " 9.95,\n",
       " 15.0,\n",
       " 39.99,\n",
       " 21.5,\n",
       " 6.99,\n",
       " 12.5,\n",
       " 74.99,\n",
       " 17.5,\n",
       " 26.0,\n",
       " 12.5,\n",
       " 19.99,\n",
       " 19.99,\n",
       " 4.0,\n",
       " 22.49,\n",
       " 19.5,\n",
       " 13.97,\n",
       " 17.99,\n",
       " 925.0,\n",
       " 69.99,\n",
       " 127.5,\n",
       " 45.0,\n",
       " 29.0,\n",
       " 3.17,\n",
       " 3.0,\n",
       " 13.0,\n",
       " 12.95,\n",
       " 1.5,\n",
       " 12.0,\n",
       " 2.0,\n",
       " 0.01,\n",
       " 35.0,\n",
       " 49.99,\n",
       " 14.5,\n",
       " 59.75,\n",
       " 15.0,\n",
       " 10.5,\n",
       " 13.99,\n",
       " 182.5,\n",
       " 7.77,\n",
       " 70.0,\n",
       " 11.5,\n",
       " 2500.0,\n",
       " 4.99,\n",
       " 1.99,\n",
       " 2.99,\n",
       " 1.84,\n",
       " 2.99,\n",
       " 22.0,\n",
       " 75.0,\n",
       " 2.25,\n",
       " 20.0,\n",
       " 2.99,\n",
       " 49.99,\n",
       " 6.99,\n",
       " 2.99,\n",
       " 199.99,\n",
       " 19.98,\n",
       " 10.0,\n",
       " 1799.99,\n",
       " 35.0,\n",
       " 39.99,\n",
       " 1.79,\n",
       " 47.95,\n",
       " 8.95,\n",
       " 1799.99,\n",
       " 5.495,\n",
       " 1.59,\n",
       " 12.995,\n",
       " 9.99,\n",
       " 2.88,\n",
       " 44.99,\n",
       " 6.49,\n",
       " 1.99,\n",
       " 975.0,\n",
       " 0.99,\n",
       " 25.0,\n",
       " 4.24,\n",
       " 6.49,\n",
       " 27.98,\n",
       " 10.6,\n",
       " 1.1800000000000002,\n",
       " 39.99,\n",
       " 3.49,\n",
       " 8.5,\n",
       " 110.0,\n",
       " 8.0,\n",
       " 1.19,\n",
       " 1.245,\n",
       " 0.99,\n",
       " 2.99,\n",
       " 30.0,\n",
       " 1.65,\n",
       " 0.99,\n",
       " 2.67,\n",
       " 2.95,\n",
       " 6.47,\n",
       " 1.59,\n",
       " 29.99,\n",
       " 1.48,\n",
       " 44.95,\n",
       " 49.99,\n",
       " 46.0,\n",
       " 5.5,\n",
       " 29.99,\n",
       " 19.95,\n",
       " 3.74,\n",
       " 0.99,\n",
       " 5.369999999999999,\n",
       " 31.0,\n",
       " 1.87,\n",
       " 56.0,\n",
       " 4.49,\n",
       " 167.5,\n",
       " 25.77,\n",
       " 6.5,\n",
       " 5.25,\n",
       " 2.49,\n",
       " 79.0,\n",
       " 47.0,\n",
       " 40.0,\n",
       " 31.0,\n",
       " 117.5,\n",
       " 43.0,\n",
       " 47.0,\n",
       " 2.99,\n",
       " 6.66,\n",
       " 37.0,\n",
       " 5.49,\n",
       " 34.0,\n",
       " 10.489999999999998,\n",
       " 39.95,\n",
       " 1.5,\n",
       " 6.69,\n",
       " 3.47,\n",
       " 2.8,\n",
       " 2.85,\n",
       " 13.219999999999999,\n",
       " 102.5,\n",
       " 81.0,\n",
       " 2.24,\n",
       " 6.495,\n",
       " 10.5,\n",
       " 8.5,\n",
       " 102.5,\n",
       " 65.0,\n",
       " 35.0,\n",
       " 0.99,\n",
       " 8.0,\n",
       " 2.0,\n",
       " 75.0,\n",
       " 25.0,\n",
       " 0.99,\n",
       " 64.95,\n",
       " 399.0,\n",
       " 2.25,\n",
       " 10.5,\n",
       " 318.0,\n",
       " 14.19,\n",
       " 10.489999999999998,\n",
       " 35.0,\n",
       " 2.495,\n",
       " 24.99,\n",
       " 6.5,\n",
       " 3.35,\n",
       " 5.0,\n",
       " 7.125,\n",
       " 127.5,\n",
       " 129.99,\n",
       " 12.79,\n",
       " 229.52,\n",
       " 6.45,\n",
       " 7.78,\n",
       " 65.95,\n",
       " 136.83,\n",
       " 3.75,\n",
       " 6.99,\n",
       " 198.01,\n",
       " 52.01,\n",
       " 0.99,\n",
       " 9.489999999999998,\n",
       " 71.0,\n",
       " 9.95,\n",
       " 49.99,\n",
       " 9.99,\n",
       " 17.0,\n",
       " 5.24,\n",
       " 1.49,\n",
       " 355.76,\n",
       " 16.5,\n",
       " 1.745,\n",
       " 49.99,\n",
       " 2.2,\n",
       " 68.0,\n",
       " 3.49,\n",
       " 12.0,\n",
       " 1.62,\n",
       " 1.24,\n",
       " 34.95,\n",
       " 1.99,\n",
       " 3.095,\n",
       " 6.0,\n",
       " 10.0,\n",
       " 0.99,\n",
       " 9.99,\n",
       " 2.34,\n",
       " 20.5,\n",
       " 12.5,\n",
       " 22.5,\n",
       " 19.5,\n",
       " 2.645,\n",
       " 44.0,\n",
       " 34.95,\n",
       " 99.99,\n",
       " 42.01,\n",
       " 14.99,\n",
       " 2.99,\n",
       " 4.99,\n",
       " 19.99,\n",
       " 2.495,\n",
       " 10.5,\n",
       " 18.95,\n",
       " 24.99,\n",
       " 15.0,\n",
       " 0.49,\n",
       " 14.0,\n",
       " 110.0,\n",
       " 2.89,\n",
       " 9.95,\n",
       " 0.99,\n",
       " 20.5,\n",
       " 12.5,\n",
       " 99.99,\n",
       " 6.495,\n",
       " 1.1099999999999999,\n",
       " 130.0,\n",
       " 5.25,\n",
       " 30.0,\n",
       " 1.99,\n",
       " 7.99,\n",
       " 3.5,\n",
       " 1.99,\n",
       " 5.99,\n",
       " 1.99,\n",
       " 4.18,\n",
       " 3.49,\n",
       " 2.99,\n",
       " 2.89,\n",
       " 1.99,\n",
       " 1.49,\n",
       " 3.99,\n",
       " 1.99]"
      ]
     },
     "execution_count": 108,
     "metadata": {},
     "output_type": "execute_result"
    }
   ],
   "source": [
    "converted_prices = []\n",
    "for i in df['soldprice']:\n",
    "    try:\n",
    "        converted_prices.append(float(i))\n",
    "    except:\n",
    "        sp = i.split()\n",
    "        converted_prices.append((float(sp[0])+float(sp[-1]))/2)\n",
    "\n",
    "converted_prices"
   ]
  },
  {
   "cell_type": "code",
   "execution_count": 109,
   "id": "57d765c3",
   "metadata": {},
   "outputs": [],
   "source": [
    "df['soldprice'] = converted_prices"
   ]
  },
  {
   "cell_type": "code",
   "execution_count": 110,
   "id": "5ad51fda",
   "metadata": {},
   "outputs": [
    {
     "data": {
      "text/html": [
       "<div>\n",
       "<style scoped>\n",
       "    .dataframe tbody tr th:only-of-type {\n",
       "        vertical-align: middle;\n",
       "    }\n",
       "\n",
       "    .dataframe tbody tr th {\n",
       "        vertical-align: top;\n",
       "    }\n",
       "\n",
       "    .dataframe thead th {\n",
       "        text-align: right;\n",
       "    }\n",
       "</style>\n",
       "<table border=\"1\" class=\"dataframe\">\n",
       "  <thead>\n",
       "    <tr style=\"text-align: right;\">\n",
       "      <th></th>\n",
       "      <th>title</th>\n",
       "      <th>soldprice</th>\n",
       "      <th>link</th>\n",
       "      <th>solddate</th>\n",
       "      <th>bids</th>\n",
       "    </tr>\n",
       "  </thead>\n",
       "  <tbody>\n",
       "    <tr>\n",
       "      <th>0</th>\n",
       "      <td>Shohei Ohtani 2023 Bowman Chrome Mojo Refracto...</td>\n",
       "      <td>5.00</td>\n",
       "      <td>https://www.ebay.com/itm/305113977419?hash=ite...</td>\n",
       "      <td>2023-09-08</td>\n",
       "      <td>0</td>\n",
       "    </tr>\n",
       "    <tr>\n",
       "      <th>1</th>\n",
       "      <td>2018  Topps Update “Japans Finest” Shohei Ohta...</td>\n",
       "      <td>6.99</td>\n",
       "      <td>https://www.ebay.com/itm/314817529687?hash=ite...</td>\n",
       "      <td>2023-09-08</td>\n",
       "      <td>0</td>\n",
       "    </tr>\n",
       "    <tr>\n",
       "      <th>2</th>\n",
       "      <td>New Listing2023 Topps Chrome Baseball Shohei O...</td>\n",
       "      <td>11.99</td>\n",
       "      <td>https://www.ebay.com/itm/314820875253?hash=ite...</td>\n",
       "      <td>2023-09-08</td>\n",
       "      <td>0</td>\n",
       "    </tr>\n",
       "    <tr>\n",
       "      <th>3</th>\n",
       "      <td>SHOHEI OHTANI 15 CARD LOT - 2022, 23 TOPPS/BOW...</td>\n",
       "      <td>4.51</td>\n",
       "      <td>https://www.ebay.com/itm/305112331411?hash=ite...</td>\n",
       "      <td>2023-09-08</td>\n",
       "      <td>6</td>\n",
       "    </tr>\n",
       "    <tr>\n",
       "      <th>4</th>\n",
       "      <td>2018 Topps Update Shohei Ohtani Next Step, Sta...</td>\n",
       "      <td>89.99</td>\n",
       "      <td>https://www.ebay.com/itm/126072723348?hash=ite...</td>\n",
       "      <td>2023-09-08</td>\n",
       "      <td>0</td>\n",
       "    </tr>\n",
       "  </tbody>\n",
       "</table>\n",
       "</div>"
      ],
      "text/plain": [
       "                                               title  soldprice  \\\n",
       "0  Shohei Ohtani 2023 Bowman Chrome Mojo Refracto...       5.00   \n",
       "1  2018  Topps Update “Japans Finest” Shohei Ohta...       6.99   \n",
       "2  New Listing2023 Topps Chrome Baseball Shohei O...      11.99   \n",
       "3  SHOHEI OHTANI 15 CARD LOT - 2022, 23 TOPPS/BOW...       4.51   \n",
       "4  2018 Topps Update Shohei Ohtani Next Step, Sta...      89.99   \n",
       "\n",
       "                                                link   solddate  bids  \n",
       "0  https://www.ebay.com/itm/305113977419?hash=ite... 2023-09-08     0  \n",
       "1  https://www.ebay.com/itm/314817529687?hash=ite... 2023-09-08     0  \n",
       "2  https://www.ebay.com/itm/314820875253?hash=ite... 2023-09-08     0  \n",
       "3  https://www.ebay.com/itm/305112331411?hash=ite... 2023-09-08     6  \n",
       "4  https://www.ebay.com/itm/126072723348?hash=ite... 2023-09-08     0  "
      ]
     },
     "execution_count": 110,
     "metadata": {},
     "output_type": "execute_result"
    }
   ],
   "source": [
    "df.head()"
   ]
  },
  {
   "cell_type": "code",
   "execution_count": 120,
   "id": "e68a97a7",
   "metadata": {},
   "outputs": [
    {
     "data": {
      "text/plain": [
       "90    https://www.ebay.com/itm/115909984387?hash=ite...\n",
       "Name: link, dtype: object"
      ]
     },
     "execution_count": 120,
     "metadata": {},
     "output_type": "execute_result"
    }
   ],
   "source": [
    "df[df.get('soldprice')==df['soldprice'].max()].get('link')"
   ]
  },
  {
   "cell_type": "code",
   "execution_count": 123,
   "id": "41d53899",
   "metadata": {},
   "outputs": [
    {
     "data": {
      "text/html": [
       "<div>\n",
       "<style scoped>\n",
       "    .dataframe tbody tr th:only-of-type {\n",
       "        vertical-align: middle;\n",
       "    }\n",
       "\n",
       "    .dataframe tbody tr th {\n",
       "        vertical-align: top;\n",
       "    }\n",
       "\n",
       "    .dataframe thead th {\n",
       "        text-align: right;\n",
       "    }\n",
       "</style>\n",
       "<table border=\"1\" class=\"dataframe\">\n",
       "  <thead>\n",
       "    <tr style=\"text-align: right;\">\n",
       "      <th></th>\n",
       "      <th>soldprice</th>\n",
       "      <th>bids</th>\n",
       "    </tr>\n",
       "  </thead>\n",
       "  <tbody>\n",
       "    <tr>\n",
       "      <th>count</th>\n",
       "      <td>300.000000</td>\n",
       "      <td>300.000000</td>\n",
       "    </tr>\n",
       "    <tr>\n",
       "      <th>mean</th>\n",
       "      <td>63.568317</td>\n",
       "      <td>3.573333</td>\n",
       "    </tr>\n",
       "    <tr>\n",
       "      <th>std</th>\n",
       "      <td>230.838365</td>\n",
       "      <td>6.989573</td>\n",
       "    </tr>\n",
       "    <tr>\n",
       "      <th>min</th>\n",
       "      <td>0.010000</td>\n",
       "      <td>0.000000</td>\n",
       "    </tr>\n",
       "    <tr>\n",
       "      <th>25%</th>\n",
       "      <td>3.682500</td>\n",
       "      <td>0.000000</td>\n",
       "    </tr>\n",
       "    <tr>\n",
       "      <th>50%</th>\n",
       "      <td>12.500000</td>\n",
       "      <td>0.000000</td>\n",
       "    </tr>\n",
       "    <tr>\n",
       "      <th>75%</th>\n",
       "      <td>39.990000</td>\n",
       "      <td>4.000000</td>\n",
       "    </tr>\n",
       "    <tr>\n",
       "      <th>max</th>\n",
       "      <td>2500.000000</td>\n",
       "      <td>44.000000</td>\n",
       "    </tr>\n",
       "  </tbody>\n",
       "</table>\n",
       "</div>"
      ],
      "text/plain": [
       "         soldprice        bids\n",
       "count   300.000000  300.000000\n",
       "mean     63.568317    3.573333\n",
       "std     230.838365    6.989573\n",
       "min       0.010000    0.000000\n",
       "25%       3.682500    0.000000\n",
       "50%      12.500000    0.000000\n",
       "75%      39.990000    4.000000\n",
       "max    2500.000000   44.000000"
      ]
     },
     "execution_count": 123,
     "metadata": {},
     "output_type": "execute_result"
    }
   ],
   "source": [
    "desc = df.describe()\n",
    "desc"
   ]
  },
  {
   "cell_type": "code",
   "execution_count": 173,
   "id": "aae1a5fb",
   "metadata": {},
   "outputs": [],
   "source": [
    "temp = df.groupby('solddate').count().index[-1]\n",
    "temp2 = df.groupby('solddate').count().index[-2]\n",
    "\n",
    "smaller_dates = df[df.get('solddate') != temp]\n",
    "smaller_dates = smaller_dates[smaller_dates.get('solddate')!= temp2]"
   ]
  },
  {
   "cell_type": "code",
   "execution_count": 177,
   "id": "ac9cbf8f",
   "metadata": {},
   "outputs": [
    {
     "data": {
      "text/plain": [
       "<Axes: xlabel='solddate'>"
      ]
     },
     "execution_count": 177,
     "metadata": {},
     "output_type": "execute_result"
    },
    {
     "data": {
      "image/png": "[encoded data removed]",
      "text/plain": [
       "<Figure size 1000x500 with 1 Axes>"
      ]
     },
     "metadata": {},
     "output_type": "display_data"
    }
   ],
   "source": [
    "smaller_dates.plot(y = 'soldprice',\n",
    "                   x = 'solddate',\n",
    "                  figsize = (10, 5))"
   ]
  },
  {
   "cell_type": "code",
   "execution_count": 137,
   "id": "420bc177",
   "metadata": {},
   "outputs": [],
   "source": [
    "# remove min and max\n",
    "\n",
    "s_df = df[df.get('soldprice') < 150]\n",
    "s_df = s_df[s_df.get('soldprice')!=df['soldprice'].min()]"
   ]
  },
  {
   "cell_type": "code",
   "execution_count": 138,
   "id": "a28062ed",
   "metadata": {},
   "outputs": [
    {
     "data": {
      "text/plain": [
       "<Axes: xlabel='solddate'>"
      ]
     },
     "execution_count": 138,
     "metadata": {},
     "output_type": "execute_result"
    },
    {
     "data": {
      "image/png": "[encoded data removed]",
      "text/plain": [
       "<Figure size 640x480 with 1 Axes>"
      ]
     },
     "metadata": {},
     "output_type": "display_data"
    }
   ],
   "source": [
    "s_df.plot('solddate', 'soldprice')"
   ]
  },
  {
   "cell_type": "code",
   "execution_count": 151,
   "id": "b2a4b33d",
   "metadata": {},
   "outputs": [
    {
     "data": {
      "text/plain": [
       "Timestamp('2023-09-07 00:00:00')"
      ]
     },
     "execution_count": 151,
     "metadata": {},
     "output_type": "execute_result"
    }
   ],
   "source": [
    "dates = df.groupby('solddate').count().index\n",
    "dates[-2]"
   ]
  },
  {
   "cell_type": "code",
   "execution_count": 160,
   "id": "5b20ee7e",
   "metadata": {},
   "outputs": [
    {
     "data": {
      "text/html": [
       "<div>\n",
       "<style scoped>\n",
       "    .dataframe tbody tr th:only-of-type {\n",
       "        vertical-align: middle;\n",
       "    }\n",
       "\n",
       "    .dataframe tbody tr th {\n",
       "        vertical-align: top;\n",
       "    }\n",
       "\n",
       "    .dataframe thead th {\n",
       "        text-align: right;\n",
       "    }\n",
       "</style>\n",
       "<table border=\"1\" class=\"dataframe\">\n",
       "  <thead>\n",
       "    <tr style=\"text-align: right;\">\n",
       "      <th></th>\n",
       "      <th>title</th>\n",
       "      <th>soldprice</th>\n",
       "      <th>link</th>\n",
       "      <th>solddate</th>\n",
       "      <th>bids</th>\n",
       "    </tr>\n",
       "  </thead>\n",
       "  <tbody>\n",
       "    <tr>\n",
       "      <th>141</th>\n",
       "      <td>2022 Bowman Chrome Base Cards Rookies/Veterans...</td>\n",
       "      <td>0.99</td>\n",
       "      <td>https://www.ebay.com/itm/325482001587?hash=ite...</td>\n",
       "      <td>2023-09-07</td>\n",
       "      <td>0</td>\n",
       "    </tr>\n",
       "    <tr>\n",
       "      <th>142</th>\n",
       "      <td>2023 Topps Series 2 - STARS OF MLB INSERTS - C...</td>\n",
       "      <td>2.67</td>\n",
       "      <td>https://www.ebay.com/itm/354872751770?hash=ite...</td>\n",
       "      <td>2023-09-07</td>\n",
       "      <td>0</td>\n",
       "    </tr>\n",
       "    <tr>\n",
       "      <th>143</th>\n",
       "      <td>2023 Topps Series 2 - 1988 TOPPS 35TH ANNIVERS...</td>\n",
       "      <td>2.95</td>\n",
       "      <td>https://www.ebay.com/itm/354872867130?hash=ite...</td>\n",
       "      <td>2023-09-07</td>\n",
       "      <td>0</td>\n",
       "    </tr>\n",
       "    <tr>\n",
       "      <th>144</th>\n",
       "      <td>2022 Topps HERITAGE HIGH NUMBER Baseball *Pick...</td>\n",
       "      <td>6.47</td>\n",
       "      <td>https://www.ebay.com/itm/204308890991?hash=ite...</td>\n",
       "      <td>2023-09-07</td>\n",
       "      <td>0</td>\n",
       "    </tr>\n",
       "    <tr>\n",
       "      <th>145</th>\n",
       "      <td>Shohei Ohtani 2022 BOWMAN Base MVP #68 Flagshi...</td>\n",
       "      <td>1.59</td>\n",
       "      <td>https://www.ebay.com/itm/134278830926?hash=ite...</td>\n",
       "      <td>2023-09-07</td>\n",
       "      <td>0</td>\n",
       "    </tr>\n",
       "    <tr>\n",
       "      <th>...</th>\n",
       "      <td>...</td>\n",
       "      <td>...</td>\n",
       "      <td>...</td>\n",
       "      <td>...</td>\n",
       "      <td>...</td>\n",
       "    </tr>\n",
       "    <tr>\n",
       "      <th>295</th>\n",
       "      <td>2022 MLB Topps Now Card SHOHEI OHTANI #OS-18 A...</td>\n",
       "      <td>2.89</td>\n",
       "      <td>https://www.ebay.com/itm/355010778646?epid=260...</td>\n",
       "      <td>2023-09-07</td>\n",
       "      <td>1</td>\n",
       "    </tr>\n",
       "    <tr>\n",
       "      <th>296</th>\n",
       "      <td>2021 Panini Chronicles Shohei Ohtani Phoenix c...</td>\n",
       "      <td>1.99</td>\n",
       "      <td>https://www.ebay.com/itm/285091687604?hash=ite...</td>\n",
       "      <td>2023-09-07</td>\n",
       "      <td>0</td>\n",
       "    </tr>\n",
       "    <tr>\n",
       "      <th>297</th>\n",
       "      <td>2021 Donruss #199 Shohei Ohtani base card Angels</td>\n",
       "      <td>1.49</td>\n",
       "      <td>https://www.ebay.com/itm/284950780071?hash=ite...</td>\n",
       "      <td>2023-09-07</td>\n",
       "      <td>0</td>\n",
       "    </tr>\n",
       "    <tr>\n",
       "      <th>298</th>\n",
       "      <td>2022 Bowman Chrome #71 Shohei Ohtani card Angels</td>\n",
       "      <td>3.99</td>\n",
       "      <td>https://www.ebay.com/itm/285053569728?hash=ite...</td>\n",
       "      <td>2023-09-07</td>\n",
       "      <td>0</td>\n",
       "    </tr>\n",
       "    <tr>\n",
       "      <th>299</th>\n",
       "      <td>2021 Panini Absolute #25 Shohei Ohtani GREEN p...</td>\n",
       "      <td>1.99</td>\n",
       "      <td>https://www.ebay.com/itm/285099920417?epid=805...</td>\n",
       "      <td>2023-09-07</td>\n",
       "      <td>0</td>\n",
       "    </tr>\n",
       "  </tbody>\n",
       "</table>\n",
       "<p>158 rows × 5 columns</p>\n",
       "</div>"
      ],
      "text/plain": [
       "                                                 title  soldprice  \\\n",
       "141  2022 Bowman Chrome Base Cards Rookies/Veterans...       0.99   \n",
       "142  2023 Topps Series 2 - STARS OF MLB INSERTS - C...       2.67   \n",
       "143  2023 Topps Series 2 - 1988 TOPPS 35TH ANNIVERS...       2.95   \n",
       "144  2022 Topps HERITAGE HIGH NUMBER Baseball *Pick...       6.47   \n",
       "145  Shohei Ohtani 2022 BOWMAN Base MVP #68 Flagshi...       1.59   \n",
       "..                                                 ...        ...   \n",
       "295  2022 MLB Topps Now Card SHOHEI OHTANI #OS-18 A...       2.89   \n",
       "296  2021 Panini Chronicles Shohei Ohtani Phoenix c...       1.99   \n",
       "297   2021 Donruss #199 Shohei Ohtani base card Angels       1.49   \n",
       "298   2022 Bowman Chrome #71 Shohei Ohtani card Angels       3.99   \n",
       "299  2021 Panini Absolute #25 Shohei Ohtani GREEN p...       1.99   \n",
       "\n",
       "                                                  link   solddate  bids  \n",
       "141  https://www.ebay.com/itm/325482001587?hash=ite... 2023-09-07     0  \n",
       "142  https://www.ebay.com/itm/354872751770?hash=ite... 2023-09-07     0  \n",
       "143  https://www.ebay.com/itm/354872867130?hash=ite... 2023-09-07     0  \n",
       "144  https://www.ebay.com/itm/204308890991?hash=ite... 2023-09-07     0  \n",
       "145  https://www.ebay.com/itm/134278830926?hash=ite... 2023-09-07     0  \n",
       "..                                                 ...        ...   ...  \n",
       "295  https://www.ebay.com/itm/355010778646?epid=260... 2023-09-07     1  \n",
       "296  https://www.ebay.com/itm/285091687604?hash=ite... 2023-09-07     0  \n",
       "297  https://www.ebay.com/itm/284950780071?hash=ite... 2023-09-07     0  \n",
       "298  https://www.ebay.com/itm/285053569728?hash=ite... 2023-09-07     0  \n",
       "299  https://www.ebay.com/itm/285099920417?epid=805... 2023-09-07     0  \n",
       "\n",
       "[158 rows x 5 columns]"
      ]
     },
     "execution_count": 160,
     "metadata": {},
     "output_type": "execute_result"
    }
   ],
   "source": [
    "df[df.get('solddate')== dates[-2]]"
   ]
  },
  {
   "cell_type": "code",
   "execution_count": 164,
   "id": "524a4bbc",
   "metadata": {
    "scrolled": true
   },
   "outputs": [
    {
     "data": {
      "text/plain": [
       "<Axes: ylabel='Frequency'>"
      ]
     },
     "execution_count": 164,
     "metadata": {},
     "output_type": "execute_result"
    },
    {
     "data": {
      "image/png": "[encoded data removed]",
      "text/plain": [
       "<Figure size 1000x500 with 1 Axes>"
      ]
     },
     "metadata": {},
     "output_type": "display_data"
    }
   ],
   "source": [
    "df[df.get('solddate')== dates[-2]].plot(y = 'soldprice', kind = 'hist',\n",
    "                                        bins = 20,\n",
    "                                       figsize = (10, 5))"
   ]
  },
  {
   "cell_type": "code",
   "execution_count": 118,
   "id": "0a93bb07",
   "metadata": {
    "scrolled": true
   },
   "outputs": [
    {
     "data": {
      "text/plain": [
       "0.01"
      ]
     },
     "execution_count": 118,
     "metadata": {},
     "output_type": "execute_result"
    }
   ],
   "source": [
    "df['soldprice'].min()"
   ]
  },
  {
   "cell_type": "code",
   "execution_count": 116,
   "id": "88e07400",
   "metadata": {},
   "outputs": [
    {
     "data": {
      "text/plain": [
       "2500.0"
      ]
     },
     "execution_count": 116,
     "metadata": {},
     "output_type": "execute_result"
    }
   ],
   "source": [
    "df['soldprice'].max()"
   ]
  },
  {
   "cell_type": "code",
   "execution_count": 115,
   "id": "e600a35f",
   "metadata": {},
   "outputs": [
    {
     "data": {
      "text/plain": [
       "<Axes: xlabel='solddate'>"
      ]
     },
     "execution_count": 115,
     "metadata": {},
     "output_type": "execute_result"
    },
    {
     "data": {
      "image/png": "[encoded data removed]",
      "text/plain": [
       "<Figure size 1000x500 with 1 Axes>"
      ]
     },
     "metadata": {},
     "output_type": "display_data"
    }
   ],
   "source": [
    "df.plot('solddate', 'soldprice', figsize = [10, 5])"
   ]
  },
  {
   "cell_type": "code",
   "execution_count": null,
   "id": "4b3209f1",
   "metadata": {},
   "outputs": [],
   "source": []
  }
 ],
 "metadata": {
  "kernelspec": {
   "display_name": "Python 3 (ipykernel)",
   "language": "python",
   "name": "python3"
  },
  "language_info": {
   "codemirror_mode": {
    "name": "ipython",
    "version": 3
   },
   "file_extension": ".py",
   "mimetype": "text/x-python",
   "name": "python",
   "nbconvert_exporter": "python",
   "pygments_lexer": "ipython3",
   "version": "3.10.0"
  }
 },
 "nbformat": 4,
 "nbformat_minor": 5
}
